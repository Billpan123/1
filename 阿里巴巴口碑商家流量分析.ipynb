{
 "cells": [
  {
   "cell_type": "code",
   "execution_count": 255,
   "metadata": {},
   "outputs": [],
   "source": [
    "import pandas as pd\n",
    "import numpy as np\n",
    "import matplotlib.pyplot as plt\n",
    "import seaborn as sns\n",
    "import warnings\n",
    "warnings.filterwarnings('ignore')\n",
    "import matplotlib.cm as cm\n",
    "# 设置主题\n",
    "sns.set(style='whitegrid')\n",
    "# 解决中文显示问题\n",
    "plt.rcParams['font.sans-serif'] = ['SimHei']\n",
    "plt.rcParams[\"axes.unicode_minus\"]=False #该语句解决图像中的“-”负号的乱码问题"
   ]
  },
  {
   "cell_type": "code",
   "execution_count": 16,
   "metadata": {},
   "outputs": [],
   "source": [
    "source_file='./Desktop/dataset/shop_info.txt'\n",
    "shop_info = pd.read_csv(source_file,\n",
    "                             names=['shop_id','city_name','location_id','per_pay','score','comment_cnt','shop_level','cate_1_name','cate_2_name','cate_3_name'],\n",
    "                             dtype={'shop_id': np.int16, 'city_name': 'category', 'location_id': np.int16, 'per_pay': np.int8, 'score': 'object', 'comment_cnt': 'object',\n",
    "                                   'shop_level': np.int8, 'cate_1_name': 'category', 'cate_2_name': 'category', 'cate_3_name': 'object'},\n",
    "                            header=None)"
   ]
  },
  {
   "cell_type": "code",
   "execution_count": 5,
   "metadata": {},
   "outputs": [],
   "source": [
    "user_pay=pd.read_csv('./Desktop/dataset/user_pay.txt',\n",
    "                     names=['user_id', 'shop_id', 'time_stamp'],\n",
    "                     dtype={'user_id': np.int32, 'shop_id': np.int16},\n",
    "                     header=None)"
   ]
  },
  {
   "cell_type": "code",
   "execution_count": 6,
   "metadata": {},
   "outputs": [],
   "source": [
    "user_view=pd.read_csv('./Desktop/dataset/user_view.txt',\n",
    "                      names=['user_id', 'shop_id', 'time_stamp'],\n",
    "                      dtype={'user_id': np.int32, 'shop_id': np.int16},\n",
    "                      header=None)\n",
    "user_view.columns=['user_id','shop_id','time_stamp']"
   ]
  },
  {
   "cell_type": "code",
   "execution_count": 7,
   "metadata": {
    "scrolled": true
   },
   "outputs": [
    {
     "data": {
      "text/html": [
       "<div>\n",
       "<style scoped>\n",
       "    .dataframe tbody tr th:only-of-type {\n",
       "        vertical-align: middle;\n",
       "    }\n",
       "\n",
       "    .dataframe tbody tr th {\n",
       "        vertical-align: top;\n",
       "    }\n",
       "\n",
       "    .dataframe thead th {\n",
       "        text-align: right;\n",
       "    }\n",
       "</style>\n",
       "<table border=\"1\" class=\"dataframe\">\n",
       "  <thead>\n",
       "    <tr style=\"text-align: right;\">\n",
       "      <th></th>\n",
       "      <th>shop_id</th>\n",
       "      <th>city_name</th>\n",
       "      <th>location_id</th>\n",
       "      <th>per_pay</th>\n",
       "      <th>score</th>\n",
       "      <th>comment_cnt</th>\n",
       "      <th>shop_level</th>\n",
       "      <th>cate_1_name</th>\n",
       "      <th>cate_2_name</th>\n",
       "      <th>cate_3_name</th>\n",
       "    </tr>\n",
       "  </thead>\n",
       "  <tbody>\n",
       "    <tr>\n",
       "      <th>0</th>\n",
       "      <td>1</td>\n",
       "      <td>湖州</td>\n",
       "      <td>885</td>\n",
       "      <td>8</td>\n",
       "      <td>4</td>\n",
       "      <td>12</td>\n",
       "      <td>2</td>\n",
       "      <td>美食</td>\n",
       "      <td>休闲茶饮</td>\n",
       "      <td>饮品/甜点</td>\n",
       "    </tr>\n",
       "    <tr>\n",
       "      <th>1</th>\n",
       "      <td>2</td>\n",
       "      <td>哈尔滨</td>\n",
       "      <td>64</td>\n",
       "      <td>19</td>\n",
       "      <td>NaN</td>\n",
       "      <td>NaN</td>\n",
       "      <td>1</td>\n",
       "      <td>超市便利店</td>\n",
       "      <td>超市</td>\n",
       "      <td>NaN</td>\n",
       "    </tr>\n",
       "    <tr>\n",
       "      <th>2</th>\n",
       "      <td>3</td>\n",
       "      <td>南昌</td>\n",
       "      <td>774</td>\n",
       "      <td>5</td>\n",
       "      <td>3</td>\n",
       "      <td>2</td>\n",
       "      <td>0</td>\n",
       "      <td>美食</td>\n",
       "      <td>休闲茶饮</td>\n",
       "      <td>奶茶</td>\n",
       "    </tr>\n",
       "    <tr>\n",
       "      <th>3</th>\n",
       "      <td>4</td>\n",
       "      <td>天津</td>\n",
       "      <td>380</td>\n",
       "      <td>18</td>\n",
       "      <td>NaN</td>\n",
       "      <td>NaN</td>\n",
       "      <td>1</td>\n",
       "      <td>超市便利店</td>\n",
       "      <td>超市</td>\n",
       "      <td>NaN</td>\n",
       "    </tr>\n",
       "    <tr>\n",
       "      <th>4</th>\n",
       "      <td>5</td>\n",
       "      <td>杭州</td>\n",
       "      <td>263</td>\n",
       "      <td>2</td>\n",
       "      <td>2</td>\n",
       "      <td>2</td>\n",
       "      <td>0</td>\n",
       "      <td>美食</td>\n",
       "      <td>休闲食品</td>\n",
       "      <td>生鲜水果</td>\n",
       "    </tr>\n",
       "  </tbody>\n",
       "</table>\n",
       "</div>"
      ],
      "text/plain": [
       "   shop_id city_name  location_id  per_pay score comment_cnt  shop_level  \\\n",
       "0        1        湖州          885        8     4          12           2   \n",
       "1        2       哈尔滨           64       19   NaN         NaN           1   \n",
       "2        3        南昌          774        5     3           2           0   \n",
       "3        4        天津          380       18   NaN         NaN           1   \n",
       "4        5        杭州          263        2     2           2           0   \n",
       "\n",
       "  cate_1_name cate_2_name cate_3_name  \n",
       "0          美食        休闲茶饮       饮品/甜点  \n",
       "1       超市便利店          超市         NaN  \n",
       "2          美食        休闲茶饮          奶茶  \n",
       "3       超市便利店          超市         NaN  \n",
       "4          美食        休闲食品        生鲜水果  "
      ]
     },
     "execution_count": 7,
     "metadata": {},
     "output_type": "execute_result"
    }
   ],
   "source": [
    "shop_info.head()"
   ]
  },
  {
   "cell_type": "code",
   "execution_count": 8,
   "metadata": {
    "scrolled": true
   },
   "outputs": [
    {
     "name": "stdout",
     "output_type": "stream",
     "text": [
      "<class 'pandas.core.frame.DataFrame'>\n",
      "RangeIndex: 2000 entries, 0 to 1999\n",
      "Data columns (total 10 columns):\n",
      " #   Column       Non-Null Count  Dtype   \n",
      "---  ------       --------------  -----   \n",
      " 0   shop_id      2000 non-null   int16   \n",
      " 1   city_name    2000 non-null   category\n",
      " 2   location_id  2000 non-null   int16   \n",
      " 3   per_pay      2000 non-null   int8    \n",
      " 4   score        1709 non-null   object  \n",
      " 5   comment_cnt  1709 non-null   object  \n",
      " 6   shop_level   2000 non-null   int8    \n",
      " 7   cate_1_name  2000 non-null   category\n",
      " 8   cate_2_name  2000 non-null   category\n",
      " 9   cate_3_name  1415 non-null   object  \n",
      "dtypes: category(3), int16(2), int8(2), object(3)\n",
      "memory usage: 71.5+ KB\n"
     ]
    }
   ],
   "source": [
    "shop_info.info()"
   ]
  },
  {
   "cell_type": "code",
   "execution_count": 9,
   "metadata": {
    "scrolled": true
   },
   "outputs": [
    {
     "data": {
      "text/html": [
       "<div>\n",
       "<style scoped>\n",
       "    .dataframe tbody tr th:only-of-type {\n",
       "        vertical-align: middle;\n",
       "    }\n",
       "\n",
       "    .dataframe tbody tr th {\n",
       "        vertical-align: top;\n",
       "    }\n",
       "\n",
       "    .dataframe thead th {\n",
       "        text-align: right;\n",
       "    }\n",
       "</style>\n",
       "<table border=\"1\" class=\"dataframe\">\n",
       "  <thead>\n",
       "    <tr style=\"text-align: right;\">\n",
       "      <th></th>\n",
       "      <th>user_id</th>\n",
       "      <th>shop_id</th>\n",
       "      <th>time_stamp</th>\n",
       "    </tr>\n",
       "  </thead>\n",
       "  <tbody>\n",
       "    <tr>\n",
       "      <th>0</th>\n",
       "      <td>22127870</td>\n",
       "      <td>1862</td>\n",
       "      <td>2015-12-25 17:00:00</td>\n",
       "    </tr>\n",
       "    <tr>\n",
       "      <th>1</th>\n",
       "      <td>3434231</td>\n",
       "      <td>1862</td>\n",
       "      <td>2016-10-05 11:00:00</td>\n",
       "    </tr>\n",
       "    <tr>\n",
       "      <th>2</th>\n",
       "      <td>16955285</td>\n",
       "      <td>1862</td>\n",
       "      <td>2016-02-10 15:00:00</td>\n",
       "    </tr>\n",
       "    <tr>\n",
       "      <th>3</th>\n",
       "      <td>13799128</td>\n",
       "      <td>1862</td>\n",
       "      <td>2016-01-13 14:00:00</td>\n",
       "    </tr>\n",
       "    <tr>\n",
       "      <th>4</th>\n",
       "      <td>13799128</td>\n",
       "      <td>1862</td>\n",
       "      <td>2016-07-05 12:00:00</td>\n",
       "    </tr>\n",
       "  </tbody>\n",
       "</table>\n",
       "</div>"
      ],
      "text/plain": [
       "    user_id  shop_id           time_stamp\n",
       "0  22127870     1862  2015-12-25 17:00:00\n",
       "1   3434231     1862  2016-10-05 11:00:00\n",
       "2  16955285     1862  2016-02-10 15:00:00\n",
       "3  13799128     1862  2016-01-13 14:00:00\n",
       "4  13799128     1862  2016-07-05 12:00:00"
      ]
     },
     "execution_count": 9,
     "metadata": {},
     "output_type": "execute_result"
    }
   ],
   "source": [
    "user_pay.head()"
   ]
  },
  {
   "cell_type": "code",
   "execution_count": 10,
   "metadata": {},
   "outputs": [
    {
     "name": "stdout",
     "output_type": "stream",
     "text": [
      "<class 'pandas.core.frame.DataFrame'>\n",
      "RangeIndex: 69674110 entries, 0 to 69674109\n",
      "Data columns (total 3 columns):\n",
      " #   Column      Dtype \n",
      "---  ------      ----- \n",
      " 0   user_id     int32 \n",
      " 1   shop_id     int16 \n",
      " 2   time_stamp  object\n",
      "dtypes: int16(1), int32(1), object(1)\n",
      "memory usage: 930.2+ MB\n"
     ]
    }
   ],
   "source": [
    "user_pay.info()"
   ]
  },
  {
   "cell_type": "code",
   "execution_count": 11,
   "metadata": {
    "scrolled": true
   },
   "outputs": [
    {
     "data": {
      "text/html": [
       "<div>\n",
       "<style scoped>\n",
       "    .dataframe tbody tr th:only-of-type {\n",
       "        vertical-align: middle;\n",
       "    }\n",
       "\n",
       "    .dataframe tbody tr th {\n",
       "        vertical-align: top;\n",
       "    }\n",
       "\n",
       "    .dataframe thead th {\n",
       "        text-align: right;\n",
       "    }\n",
       "</style>\n",
       "<table border=\"1\" class=\"dataframe\">\n",
       "  <thead>\n",
       "    <tr style=\"text-align: right;\">\n",
       "      <th></th>\n",
       "      <th>user_id</th>\n",
       "      <th>shop_id</th>\n",
       "      <th>time_stamp</th>\n",
       "    </tr>\n",
       "  </thead>\n",
       "  <tbody>\n",
       "    <tr>\n",
       "      <th>0</th>\n",
       "      <td>13201967</td>\n",
       "      <td>1197</td>\n",
       "      <td>2016-10-21 18:00:00</td>\n",
       "    </tr>\n",
       "    <tr>\n",
       "      <th>1</th>\n",
       "      <td>19461365</td>\n",
       "      <td>1197</td>\n",
       "      <td>2016-06-28 23:00:00</td>\n",
       "    </tr>\n",
       "    <tr>\n",
       "      <th>2</th>\n",
       "      <td>15022321</td>\n",
       "      <td>1197</td>\n",
       "      <td>2016-07-16 19:00:00</td>\n",
       "    </tr>\n",
       "    <tr>\n",
       "      <th>3</th>\n",
       "      <td>5440872</td>\n",
       "      <td>1197</td>\n",
       "      <td>2016-07-15 07:00:00</td>\n",
       "    </tr>\n",
       "    <tr>\n",
       "      <th>4</th>\n",
       "      <td>12594529</td>\n",
       "      <td>1197</td>\n",
       "      <td>2016-08-07 16:00:00</td>\n",
       "    </tr>\n",
       "  </tbody>\n",
       "</table>\n",
       "</div>"
      ],
      "text/plain": [
       "    user_id  shop_id           time_stamp\n",
       "0  13201967     1197  2016-10-21 18:00:00\n",
       "1  19461365     1197  2016-06-28 23:00:00\n",
       "2  15022321     1197  2016-07-16 19:00:00\n",
       "3   5440872     1197  2016-07-15 07:00:00\n",
       "4  12594529     1197  2016-08-07 16:00:00"
      ]
     },
     "execution_count": 11,
     "metadata": {},
     "output_type": "execute_result"
    }
   ],
   "source": [
    "user_view.head()"
   ]
  },
  {
   "cell_type": "code",
   "execution_count": 12,
   "metadata": {
    "scrolled": false
   },
   "outputs": [
    {
     "name": "stdout",
     "output_type": "stream",
     "text": [
      "<class 'pandas.core.frame.DataFrame'>\n",
      "RangeIndex: 5556715 entries, 0 to 5556714\n",
      "Data columns (total 3 columns):\n",
      " #   Column      Dtype \n",
      "---  ------      ----- \n",
      " 0   user_id     int32 \n",
      " 1   shop_id     int16 \n",
      " 2   time_stamp  object\n",
      "dtypes: int16(1), int32(1), object(1)\n",
      "memory usage: 74.2+ MB\n"
     ]
    }
   ],
   "source": [
    "user_view.info()"
   ]
  },
  {
   "cell_type": "markdown",
   "metadata": {},
   "source": [
    "检查重复值"
   ]
  },
  {
   "cell_type": "code",
   "execution_count": 13,
   "metadata": {},
   "outputs": [
    {
     "name": "stdout",
     "output_type": "stream",
     "text": [
      "shop_info发现有 [0] 条重复数据！\n",
      "user_pay发现有 [2517084] 条重复数据！\n",
      "user_view发现有 [757364] 条重复数据！\n"
     ]
    }
   ],
   "source": [
    "dup_shop_info= shop_info.duplicated().sum()\n",
    "print(\"shop_info发现有 [{}] 条重复数据！\".format(dup_shop_info))\n",
    "dup_user_pay= user_pay.duplicated().sum()\n",
    "print(\"user_pay发现有 [{}] 条重复数据！\".format(dup_user_pay))\n",
    "dup_user_view= user_view.duplicated().sum()\n",
    "print(\"user_view发现有 [{}] 条重复数据！\".format(dup_user_view))"
   ]
  },
  {
   "cell_type": "markdown",
   "metadata": {},
   "source": [
    "重复值删除"
   ]
  },
  {
   "cell_type": "code",
   "execution_count": 14,
   "metadata": {
    "scrolled": true
   },
   "outputs": [],
   "source": [
    "user_pay.drop_duplicates(keep='first',inplace=True)\n",
    "user_view.drop_duplicates(keep='first',inplace=True)"
   ]
  },
  {
   "cell_type": "code",
   "execution_count": 15,
   "metadata": {},
   "outputs": [
    {
     "ename": "NameError",
     "evalue": "name '检查空值' is not defined",
     "output_type": "error",
     "traceback": [
      "\u001b[0;31m---------------------------------------------------------------------------\u001b[0m",
      "\u001b[0;31mNameError\u001b[0m                                 Traceback (most recent call last)",
      "\u001b[0;32m<ipython-input-15-ffe6f48c524d>\u001b[0m in \u001b[0;36m<module>\u001b[0;34m\u001b[0m\n\u001b[0;32m----> 1\u001b[0;31m \u001b[0m检查空值\u001b[0m\u001b[0;34m\u001b[0m\u001b[0;34m\u001b[0m\u001b[0m\n\u001b[0m",
      "\u001b[0;31mNameError\u001b[0m: name '检查空值' is not defined"
     ]
    }
   ],
   "source": [
    "检查空值"
   ]
  },
  {
   "cell_type": "code",
   "execution_count": 17,
   "metadata": {
    "scrolled": false
   },
   "outputs": [
    {
     "name": "stdout",
     "output_type": "stream",
     "text": [
      "1167\n",
      "0\n",
      "0\n"
     ]
    }
   ],
   "source": [
    "print(shop_info.isnull().values.sum())\n",
    "print(user_pay.isnull().values.sum())\n",
    "print(user_view.isnull().values.sum())"
   ]
  },
  {
   "cell_type": "code",
   "execution_count": 18,
   "metadata": {},
   "outputs": [],
   "source": [
    "# 先将 score、comment_cnt 两列通过object类型读入，然后用字符'0'填充NaN，再向下转为最小整形，integer参数让系统自动决定使用最小是哪种整型\n",
    "shop_info['score'] = pd.to_numeric(shop_info['score'].fillna('0'), downcast='integer')        # 先进行fillna替换NaN的值，然后再改类型，如果反顺序执行，则类型仍为float无法改变\n",
    "shop_info['comment_cnt'] = pd.to_numeric(shop_info['comment_cnt'].fillna('0'), downcast='integer')\n",
    "# 处理 cate_3_name 的空值\n",
    "shop_info['cate_3_name'] = shop_info['cate_3_name'].fillna('无三级分类').astype('category')"
   ]
  },
  {
   "cell_type": "markdown",
   "metadata": {},
   "source": [
    "## 统计最受欢迎的前 10 类商品(按照二级分类统计)以及人均消费"
   ]
  },
  {
   "cell_type": "code",
   "execution_count": 19,
   "metadata": {},
   "outputs": [],
   "source": [
    "user_pay['time_stamp']=pd.to_datetime(user_pay['time_stamp'])"
   ]
  },
  {
   "cell_type": "code",
   "execution_count": 209,
   "metadata": {},
   "outputs": [],
   "source": [
    "#count每个time_stamp商家付款次数"
   ]
  },
  {
   "cell_type": "code",
   "execution_count": 20,
   "metadata": {},
   "outputs": [],
   "source": [
    "#as_idex=False在分组后的前面加索引\n",
    "time_stamp_count=user_pay[['shop_id','time_stamp']].groupby('shop_id',as_index=False).agg('count').rename(columns={'time_stamp':'payment_count'})"
   ]
  },
  {
   "cell_type": "code",
   "execution_count": 21,
   "metadata": {},
   "outputs": [],
   "source": [
    "user_pay=user_pay.append(time_stamp_count)"
   ]
  },
  {
   "cell_type": "code",
   "execution_count": 22,
   "metadata": {},
   "outputs": [],
   "source": [
    "# 商家付款总次数"
   ]
  },
  {
   "cell_type": "code",
   "execution_count": 225,
   "metadata": {},
   "outputs": [
    {
     "data": {
      "text/html": [
       "<div>\n",
       "<style scoped>\n",
       "    .dataframe tbody tr th:only-of-type {\n",
       "        vertical-align: middle;\n",
       "    }\n",
       "\n",
       "    .dataframe tbody tr th {\n",
       "        vertical-align: top;\n",
       "    }\n",
       "\n",
       "    .dataframe thead th {\n",
       "        text-align: right;\n",
       "    }\n",
       "</style>\n",
       "<table border=\"1\" class=\"dataframe\">\n",
       "  <thead>\n",
       "    <tr style=\"text-align: right;\">\n",
       "      <th></th>\n",
       "      <th>payment_count</th>\n",
       "    </tr>\n",
       "    <tr>\n",
       "      <th>shop_id</th>\n",
       "      <th></th>\n",
       "    </tr>\n",
       "  </thead>\n",
       "  <tbody>\n",
       "    <tr>\n",
       "      <th>1</th>\n",
       "      <td>90242.0</td>\n",
       "    </tr>\n",
       "    <tr>\n",
       "      <th>2</th>\n",
       "      <td>37906.0</td>\n",
       "    </tr>\n",
       "    <tr>\n",
       "      <th>3</th>\n",
       "      <td>10284.0</td>\n",
       "    </tr>\n",
       "    <tr>\n",
       "      <th>4</th>\n",
       "      <td>13398.0</td>\n",
       "    </tr>\n",
       "    <tr>\n",
       "      <th>5</th>\n",
       "      <td>31090.0</td>\n",
       "    </tr>\n",
       "    <tr>\n",
       "      <th>...</th>\n",
       "      <td>...</td>\n",
       "    </tr>\n",
       "    <tr>\n",
       "      <th>1996</th>\n",
       "      <td>6965.0</td>\n",
       "    </tr>\n",
       "    <tr>\n",
       "      <th>1997</th>\n",
       "      <td>40084.0</td>\n",
       "    </tr>\n",
       "    <tr>\n",
       "      <th>1998</th>\n",
       "      <td>44331.0</td>\n",
       "    </tr>\n",
       "    <tr>\n",
       "      <th>1999</th>\n",
       "      <td>93241.0</td>\n",
       "    </tr>\n",
       "    <tr>\n",
       "      <th>2000</th>\n",
       "      <td>19640.0</td>\n",
       "    </tr>\n",
       "  </tbody>\n",
       "</table>\n",
       "<p>2000 rows × 1 columns</p>\n",
       "</div>"
      ],
      "text/plain": [
       "         payment_count\n",
       "shop_id               \n",
       "1              90242.0\n",
       "2              37906.0\n",
       "3              10284.0\n",
       "4              13398.0\n",
       "5              31090.0\n",
       "...                ...\n",
       "1996            6965.0\n",
       "1997           40084.0\n",
       "1998           44331.0\n",
       "1999           93241.0\n",
       "2000           19640.0\n",
       "\n",
       "[2000 rows x 1 columns]"
      ]
     },
     "execution_count": 225,
     "metadata": {},
     "output_type": "execute_result"
    }
   ],
   "source": [
    "shop_id_payment_count=user_pay.pivot_table(index='shop_id',values='payment_count',aggfunc='sum')\n",
    "shop_id_payment_count"
   ]
  },
  {
   "cell_type": "code",
   "execution_count": 24,
   "metadata": {
    "scrolled": true
   },
   "outputs": [],
   "source": [
    "date_merge=pd.merge(shop_info,user_pay,left_on='shop_id',right_on='shop_id')"
   ]
  },
  {
   "cell_type": "code",
   "execution_count": 25,
   "metadata": {},
   "outputs": [],
   "source": [
    "result=date_merge[['cate_2_name','payment_count','per_pay']].groupby('cate_2_name',as_index=False).agg({'payment_count':'sum','per_pay':'mean'}).rename(columns={'payment_count':'total_amount'}).sort_values(by='total_amount',ascending=False).head(10)"
   ]
  },
  {
   "cell_type": "code",
   "execution_count": 197,
   "metadata": {
    "scrolled": false
   },
   "outputs": [
    {
     "data": {
      "image/png": "[encoded data removed]",
      "text/plain": [
       "<Figure size 720x720 with 1 Axes>"
      ]
     },
     "metadata": {},
     "output_type": "display_data"
    }
   ],
   "source": [
    "# 二级分类数据划分-第1种画法将y轴翻转，由于上面result是从大到小排列，在水平柱状图中y轴是从0开始从下到上，所以需要把y轴翻转使图形排列正确\n",
    "fig,ax=plt.subplots(figsize=(10, 10)) \n",
    "y=result['cate_2_name']\n",
    "width=result['total_amount']\n",
    "z=result['per_pay']\n",
    "plt.barh(y,width,color=['lightblue'])\n",
    "ax.invert_yaxis()#反转y轴使得能从大到小排序，必须要第一行的ax函数才能调用\n",
    "ax.xaxis.get_major_formatter().set_useOffset(False)# 关闭x轴科学计数法显示\n",
    "ax.xaxis.get_major_formatter().set_scientific(False)# 关闭x轴科学计数法显示\n",
    "for a,b,c in zip(y,width,z):\n",
    " plt.text(b+c+850000,a,'%.2f元'%c,ha = 'center',va = 'bottom',fontsize=12)#+8500为移动标签的位置\n",
    "plt.title('交易量TOP10二级分类')\n",
    "plt.grid(axis='y')#隐藏x轴网格线\n",
    "plt.xlabel('交易数量')\n",
    "plt.ylabel('二级分类商家')\n",
    "plt.show()"
   ]
  },
  {
   "cell_type": "code",
   "execution_count": 199,
   "metadata": {},
   "outputs": [
    {
     "data": {
      "image/png": "[encoded data removed]",
      "text/plain": [
       "<Figure size 720x720 with 1 Axes>"
      ]
     },
     "metadata": {},
     "output_type": "display_data"
    }
   ],
   "source": [
    "# 二级分类数据划分-第二种画法\n",
    "fig,ax=plt.subplots(figsize=(10, 10)) \n",
    "x=result['cate_2_name']\n",
    "y=result['total_amount']\n",
    "z=result['per_pay']\n",
    "plt.bar(x,y,color=['lightblue'])\n",
    "ax.yaxis.get_major_formatter().set_useOffset(False)# 关闭y轴科学计数法显示\n",
    "ax.yaxis.get_major_formatter().set_scientific(False)# 关闭y轴科学计数法显示\n",
    "for a,b,c in zip(x,z,y):\n",
    " plt.text(a,b+c,'%.2f元'%b,ha = 'center',va = 'bottom',fontsize=12)\n",
    "plt.title('交易量TOP10二级分类')\n",
    "plt.xlabel('二级分类商家')\n",
    "plt.ylabel('交易数量')\n",
    "plt.grid(axis='x')\n",
    "plt.show()\n",
    "# 这边设置的x、y，z值代表了不同柱子在图形中的位置（坐标），通过for循环找到每一个x、z，y值的相应坐标——a,b,c，\n",
    "# 再使用plt.text在对应位置添文字说明来生成相应的数字标签，而for循环也保证了每一个柱子都有标签。\n",
    "# 其中，a, b+c表示在每一柱子对应x值、y值上方total_amount的数值+per_pay的数值总和处标注文字说明，'%.2f元' % b，代表标注的文字，%b即每个柱子对应的y值标签，其中2表示保留小数点的后两位，1就表示显示小数后面一位，在f后面是添加文字描述。\n",
    "# 以此类推； ha='center', va= 'bottom'代表horizontalalignment（水平对齐）、verticalalignment（垂直对齐）的方式，fontsize则是文字大小。条形图、折线图也是如此设置，饼图则在pie命令中有数据标签的对应参数。对于累积柱状图、双轴柱状图则需要用两个for循环，同时通过a与b的不同加减来设置数据标签位置。"
   ]
  },
  {
   "cell_type": "markdown",
   "metadata": {},
   "source": [
    "# 浏览次数最多的 50 个商家，并输出他们的城市以及人均消费"
   ]
  },
  {
   "cell_type": "code",
   "execution_count": 205,
   "metadata": {},
   "outputs": [],
   "source": [
    "user_view['time_stamp']=pd.to_datetime(user_view['time_stamp'])"
   ]
  },
  {
   "cell_type": "code",
   "execution_count": 226,
   "metadata": {},
   "outputs": [],
   "source": [
    "#计算每个商家的用户浏览总次数\n",
    "shopid_view_count=user_view[['shop_id','time_stamp']].groupby('shop_id',as_index=False).agg('count').rename(columns={'time_stamp':'view_count'})"
   ]
  },
  {
   "cell_type": "code",
   "execution_count": 227,
   "metadata": {},
   "outputs": [
    {
     "data": {
      "text/html": [
       "<div>\n",
       "<style scoped>\n",
       "    .dataframe tbody tr th:only-of-type {\n",
       "        vertical-align: middle;\n",
       "    }\n",
       "\n",
       "    .dataframe tbody tr th {\n",
       "        vertical-align: top;\n",
       "    }\n",
       "\n",
       "    .dataframe thead th {\n",
       "        text-align: right;\n",
       "    }\n",
       "</style>\n",
       "<table border=\"1\" class=\"dataframe\">\n",
       "  <thead>\n",
       "    <tr style=\"text-align: right;\">\n",
       "      <th></th>\n",
       "      <th>shop_id</th>\n",
       "      <th>view_count</th>\n",
       "    </tr>\n",
       "  </thead>\n",
       "  <tbody>\n",
       "    <tr>\n",
       "      <th>0</th>\n",
       "      <td>1</td>\n",
       "      <td>4795</td>\n",
       "    </tr>\n",
       "    <tr>\n",
       "      <th>1</th>\n",
       "      <td>2</td>\n",
       "      <td>5520</td>\n",
       "    </tr>\n",
       "    <tr>\n",
       "      <th>2</th>\n",
       "      <td>3</td>\n",
       "      <td>534</td>\n",
       "    </tr>\n",
       "    <tr>\n",
       "      <th>3</th>\n",
       "      <td>4</td>\n",
       "      <td>4116</td>\n",
       "    </tr>\n",
       "    <tr>\n",
       "      <th>4</th>\n",
       "      <td>5</td>\n",
       "      <td>346</td>\n",
       "    </tr>\n",
       "    <tr>\n",
       "      <th>...</th>\n",
       "      <td>...</td>\n",
       "      <td>...</td>\n",
       "    </tr>\n",
       "    <tr>\n",
       "      <th>1992</th>\n",
       "      <td>1996</td>\n",
       "      <td>572</td>\n",
       "    </tr>\n",
       "    <tr>\n",
       "      <th>1993</th>\n",
       "      <td>1997</td>\n",
       "      <td>494</td>\n",
       "    </tr>\n",
       "    <tr>\n",
       "      <th>1994</th>\n",
       "      <td>1998</td>\n",
       "      <td>1735</td>\n",
       "    </tr>\n",
       "    <tr>\n",
       "      <th>1995</th>\n",
       "      <td>1999</td>\n",
       "      <td>2843</td>\n",
       "    </tr>\n",
       "    <tr>\n",
       "      <th>1996</th>\n",
       "      <td>2000</td>\n",
       "      <td>1268</td>\n",
       "    </tr>\n",
       "  </tbody>\n",
       "</table>\n",
       "<p>1997 rows × 2 columns</p>\n",
       "</div>"
      ],
      "text/plain": [
       "      shop_id  view_count\n",
       "0           1        4795\n",
       "1           2        5520\n",
       "2           3         534\n",
       "3           4        4116\n",
       "4           5         346\n",
       "...       ...         ...\n",
       "1992     1996         572\n",
       "1993     1997         494\n",
       "1994     1998        1735\n",
       "1995     1999        2843\n",
       "1996     2000        1268\n",
       "\n",
       "[1997 rows x 2 columns]"
      ]
     },
     "execution_count": 227,
     "metadata": {},
     "output_type": "execute_result"
    }
   ],
   "source": [
    "shopid_view_count"
   ]
  },
  {
   "cell_type": "code",
   "execution_count": 228,
   "metadata": {},
   "outputs": [],
   "source": [
    "data_merge2=pd.merge(shop_info,shopid_view_count,left_on='shop_id',right_on='shop_id')"
   ]
  },
  {
   "cell_type": "code",
   "execution_count": 245,
   "metadata": {},
   "outputs": [
    {
     "data": {
      "text/html": [
       "<div>\n",
       "<style scoped>\n",
       "    .dataframe tbody tr th:only-of-type {\n",
       "        vertical-align: middle;\n",
       "    }\n",
       "\n",
       "    .dataframe tbody tr th {\n",
       "        vertical-align: top;\n",
       "    }\n",
       "\n",
       "    .dataframe thead th {\n",
       "        text-align: right;\n",
       "    }\n",
       "</style>\n",
       "<table border=\"1\" class=\"dataframe\">\n",
       "  <thead>\n",
       "    <tr style=\"text-align: right;\">\n",
       "      <th></th>\n",
       "      <th>shop_id</th>\n",
       "      <th>city_name</th>\n",
       "      <th>view_count</th>\n",
       "      <th>per_pay</th>\n",
       "    </tr>\n",
       "  </thead>\n",
       "  <tbody>\n",
       "    <tr>\n",
       "      <th>1907</th>\n",
       "      <td>1911</td>\n",
       "      <td>天津</td>\n",
       "      <td>51409</td>\n",
       "      <td>20</td>\n",
       "    </tr>\n",
       "    <tr>\n",
       "      <th>1674</th>\n",
       "      <td>1677</td>\n",
       "      <td>济南</td>\n",
       "      <td>47612</td>\n",
       "      <td>20</td>\n",
       "    </tr>\n",
       "    <tr>\n",
       "      <th>1536</th>\n",
       "      <td>1539</td>\n",
       "      <td>宁波</td>\n",
       "      <td>44785</td>\n",
       "      <td>20</td>\n",
       "    </tr>\n",
       "    <tr>\n",
       "      <th>1667</th>\n",
       "      <td>1670</td>\n",
       "      <td>南京</td>\n",
       "      <td>43615</td>\n",
       "      <td>20</td>\n",
       "    </tr>\n",
       "    <tr>\n",
       "      <th>796</th>\n",
       "      <td>799</td>\n",
       "      <td>苏州</td>\n",
       "      <td>40204</td>\n",
       "      <td>20</td>\n",
       "    </tr>\n",
       "    <tr>\n",
       "      <th>43</th>\n",
       "      <td>44</td>\n",
       "      <td>郑州</td>\n",
       "      <td>30239</td>\n",
       "      <td>20</td>\n",
       "    </tr>\n",
       "    <tr>\n",
       "      <th>1819</th>\n",
       "      <td>1823</td>\n",
       "      <td>广州</td>\n",
       "      <td>28936</td>\n",
       "      <td>20</td>\n",
       "    </tr>\n",
       "    <tr>\n",
       "      <th>882</th>\n",
       "      <td>885</td>\n",
       "      <td>武汉</td>\n",
       "      <td>27670</td>\n",
       "      <td>20</td>\n",
       "    </tr>\n",
       "    <tr>\n",
       "      <th>1319</th>\n",
       "      <td>1322</td>\n",
       "      <td>杭州</td>\n",
       "      <td>26279</td>\n",
       "      <td>20</td>\n",
       "    </tr>\n",
       "    <tr>\n",
       "      <th>194</th>\n",
       "      <td>195</td>\n",
       "      <td>孝感</td>\n",
       "      <td>23033</td>\n",
       "      <td>19</td>\n",
       "    </tr>\n",
       "    <tr>\n",
       "      <th>849</th>\n",
       "      <td>852</td>\n",
       "      <td>武汉</td>\n",
       "      <td>20405</td>\n",
       "      <td>20</td>\n",
       "    </tr>\n",
       "    <tr>\n",
       "      <th>644</th>\n",
       "      <td>647</td>\n",
       "      <td>达州</td>\n",
       "      <td>19921</td>\n",
       "      <td>19</td>\n",
       "    </tr>\n",
       "    <tr>\n",
       "      <th>884</th>\n",
       "      <td>887</td>\n",
       "      <td>武汉</td>\n",
       "      <td>18279</td>\n",
       "      <td>20</td>\n",
       "    </tr>\n",
       "    <tr>\n",
       "      <th>672</th>\n",
       "      <td>675</td>\n",
       "      <td>梧州</td>\n",
       "      <td>18101</td>\n",
       "      <td>4</td>\n",
       "    </tr>\n",
       "    <tr>\n",
       "      <th>428</th>\n",
       "      <td>431</td>\n",
       "      <td>东莞</td>\n",
       "      <td>17419</td>\n",
       "      <td>9</td>\n",
       "    </tr>\n",
       "    <tr>\n",
       "      <th>1105</th>\n",
       "      <td>1108</td>\n",
       "      <td>南京</td>\n",
       "      <td>17382</td>\n",
       "      <td>20</td>\n",
       "    </tr>\n",
       "    <tr>\n",
       "      <th>1626</th>\n",
       "      <td>1629</td>\n",
       "      <td>苏州</td>\n",
       "      <td>16941</td>\n",
       "      <td>20</td>\n",
       "    </tr>\n",
       "    <tr>\n",
       "      <th>1931</th>\n",
       "      <td>1935</td>\n",
       "      <td>嘉兴</td>\n",
       "      <td>16599</td>\n",
       "      <td>2</td>\n",
       "    </tr>\n",
       "    <tr>\n",
       "      <th>1879</th>\n",
       "      <td>1883</td>\n",
       "      <td>苏州</td>\n",
       "      <td>15760</td>\n",
       "      <td>20</td>\n",
       "    </tr>\n",
       "    <tr>\n",
       "      <th>1689</th>\n",
       "      <td>1692</td>\n",
       "      <td>东莞</td>\n",
       "      <td>15746</td>\n",
       "      <td>20</td>\n",
       "    </tr>\n",
       "    <tr>\n",
       "      <th>1988</th>\n",
       "      <td>1992</td>\n",
       "      <td>安康</td>\n",
       "      <td>15173</td>\n",
       "      <td>19</td>\n",
       "    </tr>\n",
       "    <tr>\n",
       "      <th>1199</th>\n",
       "      <td>1202</td>\n",
       "      <td>江门</td>\n",
       "      <td>15004</td>\n",
       "      <td>6</td>\n",
       "    </tr>\n",
       "    <tr>\n",
       "      <th>1014</th>\n",
       "      <td>1017</td>\n",
       "      <td>邢台</td>\n",
       "      <td>14899</td>\n",
       "      <td>18</td>\n",
       "    </tr>\n",
       "    <tr>\n",
       "      <th>448</th>\n",
       "      <td>451</td>\n",
       "      <td>杭州</td>\n",
       "      <td>14464</td>\n",
       "      <td>20</td>\n",
       "    </tr>\n",
       "    <tr>\n",
       "      <th>57</th>\n",
       "      <td>58</td>\n",
       "      <td>杭州</td>\n",
       "      <td>13830</td>\n",
       "      <td>19</td>\n",
       "    </tr>\n",
       "    <tr>\n",
       "      <th>1218</th>\n",
       "      <td>1221</td>\n",
       "      <td>合肥</td>\n",
       "      <td>13506</td>\n",
       "      <td>5</td>\n",
       "    </tr>\n",
       "    <tr>\n",
       "      <th>1359</th>\n",
       "      <td>1362</td>\n",
       "      <td>长治</td>\n",
       "      <td>13428</td>\n",
       "      <td>15</td>\n",
       "    </tr>\n",
       "    <tr>\n",
       "      <th>345</th>\n",
       "      <td>347</td>\n",
       "      <td>邯郸</td>\n",
       "      <td>12540</td>\n",
       "      <td>7</td>\n",
       "    </tr>\n",
       "    <tr>\n",
       "      <th>519</th>\n",
       "      <td>522</td>\n",
       "      <td>深圳</td>\n",
       "      <td>12531</td>\n",
       "      <td>20</td>\n",
       "    </tr>\n",
       "    <tr>\n",
       "      <th>1139</th>\n",
       "      <td>1142</td>\n",
       "      <td>石家庄</td>\n",
       "      <td>12215</td>\n",
       "      <td>19</td>\n",
       "    </tr>\n",
       "    <tr>\n",
       "      <th>186</th>\n",
       "      <td>187</td>\n",
       "      <td>惠州</td>\n",
       "      <td>12159</td>\n",
       "      <td>8</td>\n",
       "    </tr>\n",
       "    <tr>\n",
       "      <th>574</th>\n",
       "      <td>577</td>\n",
       "      <td>金华</td>\n",
       "      <td>12054</td>\n",
       "      <td>20</td>\n",
       "    </tr>\n",
       "    <tr>\n",
       "      <th>422</th>\n",
       "      <td>425</td>\n",
       "      <td>上海</td>\n",
       "      <td>11851</td>\n",
       "      <td>19</td>\n",
       "    </tr>\n",
       "    <tr>\n",
       "      <th>567</th>\n",
       "      <td>570</td>\n",
       "      <td>湖州</td>\n",
       "      <td>11832</td>\n",
       "      <td>6</td>\n",
       "    </tr>\n",
       "    <tr>\n",
       "      <th>362</th>\n",
       "      <td>364</td>\n",
       "      <td>佛山</td>\n",
       "      <td>11707</td>\n",
       "      <td>20</td>\n",
       "    </tr>\n",
       "    <tr>\n",
       "      <th>668</th>\n",
       "      <td>671</td>\n",
       "      <td>成都</td>\n",
       "      <td>11616</td>\n",
       "      <td>19</td>\n",
       "    </tr>\n",
       "    <tr>\n",
       "      <th>734</th>\n",
       "      <td>737</td>\n",
       "      <td>广州</td>\n",
       "      <td>11574</td>\n",
       "      <td>9</td>\n",
       "    </tr>\n",
       "    <tr>\n",
       "      <th>281</th>\n",
       "      <td>283</td>\n",
       "      <td>大连</td>\n",
       "      <td>11429</td>\n",
       "      <td>20</td>\n",
       "    </tr>\n",
       "    <tr>\n",
       "      <th>888</th>\n",
       "      <td>891</td>\n",
       "      <td>杭州</td>\n",
       "      <td>11335</td>\n",
       "      <td>9</td>\n",
       "    </tr>\n",
       "    <tr>\n",
       "      <th>841</th>\n",
       "      <td>844</td>\n",
       "      <td>武汉</td>\n",
       "      <td>11279</td>\n",
       "      <td>19</td>\n",
       "    </tr>\n",
       "    <tr>\n",
       "      <th>154</th>\n",
       "      <td>155</td>\n",
       "      <td>江门</td>\n",
       "      <td>11266</td>\n",
       "      <td>7</td>\n",
       "    </tr>\n",
       "    <tr>\n",
       "      <th>1475</th>\n",
       "      <td>1478</td>\n",
       "      <td>绍兴</td>\n",
       "      <td>11191</td>\n",
       "      <td>1</td>\n",
       "    </tr>\n",
       "    <tr>\n",
       "      <th>296</th>\n",
       "      <td>298</td>\n",
       "      <td>西安</td>\n",
       "      <td>11143</td>\n",
       "      <td>19</td>\n",
       "    </tr>\n",
       "    <tr>\n",
       "      <th>1308</th>\n",
       "      <td>1311</td>\n",
       "      <td>广州</td>\n",
       "      <td>11077</td>\n",
       "      <td>20</td>\n",
       "    </tr>\n",
       "    <tr>\n",
       "      <th>1550</th>\n",
       "      <td>1553</td>\n",
       "      <td>南宁</td>\n",
       "      <td>10971</td>\n",
       "      <td>13</td>\n",
       "    </tr>\n",
       "    <tr>\n",
       "      <th>1643</th>\n",
       "      <td>1646</td>\n",
       "      <td>玉林</td>\n",
       "      <td>10911</td>\n",
       "      <td>15</td>\n",
       "    </tr>\n",
       "    <tr>\n",
       "      <th>29</th>\n",
       "      <td>30</td>\n",
       "      <td>中山</td>\n",
       "      <td>10476</td>\n",
       "      <td>7</td>\n",
       "    </tr>\n",
       "    <tr>\n",
       "      <th>405</th>\n",
       "      <td>408</td>\n",
       "      <td>贵阳</td>\n",
       "      <td>10384</td>\n",
       "      <td>20</td>\n",
       "    </tr>\n",
       "    <tr>\n",
       "      <th>254</th>\n",
       "      <td>256</td>\n",
       "      <td>南宁</td>\n",
       "      <td>10334</td>\n",
       "      <td>18</td>\n",
       "    </tr>\n",
       "    <tr>\n",
       "      <th>1817</th>\n",
       "      <td>1821</td>\n",
       "      <td>无锡</td>\n",
       "      <td>10306</td>\n",
       "      <td>19</td>\n",
       "    </tr>\n",
       "  </tbody>\n",
       "</table>\n",
       "</div>"
      ],
      "text/plain": [
       "      shop_id city_name  view_count  per_pay\n",
       "1907     1911        天津       51409       20\n",
       "1674     1677        济南       47612       20\n",
       "1536     1539        宁波       44785       20\n",
       "1667     1670        南京       43615       20\n",
       "796       799        苏州       40204       20\n",
       "43         44        郑州       30239       20\n",
       "1819     1823        广州       28936       20\n",
       "882       885        武汉       27670       20\n",
       "1319     1322        杭州       26279       20\n",
       "194       195        孝感       23033       19\n",
       "849       852        武汉       20405       20\n",
       "644       647        达州       19921       19\n",
       "884       887        武汉       18279       20\n",
       "672       675        梧州       18101        4\n",
       "428       431        东莞       17419        9\n",
       "1105     1108        南京       17382       20\n",
       "1626     1629        苏州       16941       20\n",
       "1931     1935        嘉兴       16599        2\n",
       "1879     1883        苏州       15760       20\n",
       "1689     1692        东莞       15746       20\n",
       "1988     1992        安康       15173       19\n",
       "1199     1202        江门       15004        6\n",
       "1014     1017        邢台       14899       18\n",
       "448       451        杭州       14464       20\n",
       "57         58        杭州       13830       19\n",
       "1218     1221        合肥       13506        5\n",
       "1359     1362        长治       13428       15\n",
       "345       347        邯郸       12540        7\n",
       "519       522        深圳       12531       20\n",
       "1139     1142       石家庄       12215       19\n",
       "186       187        惠州       12159        8\n",
       "574       577        金华       12054       20\n",
       "422       425        上海       11851       19\n",
       "567       570        湖州       11832        6\n",
       "362       364        佛山       11707       20\n",
       "668       671        成都       11616       19\n",
       "734       737        广州       11574        9\n",
       "281       283        大连       11429       20\n",
       "888       891        杭州       11335        9\n",
       "841       844        武汉       11279       19\n",
       "154       155        江门       11266        7\n",
       "1475     1478        绍兴       11191        1\n",
       "296       298        西安       11143       19\n",
       "1308     1311        广州       11077       20\n",
       "1550     1553        南宁       10971       13\n",
       "1643     1646        玉林       10911       15\n",
       "29         30        中山       10476        7\n",
       "405       408        贵阳       10384       20\n",
       "254       256        南宁       10334       18\n",
       "1817     1821        无锡       10306       19"
      ]
     },
     "execution_count": 245,
     "metadata": {},
     "output_type": "execute_result"
    }
   ],
   "source": [
    "result2=data_merge2[['shop_id','city_name','view_count','per_pay']].sort_values(by='view_count',ascending=False).head(50)\n",
    "result2"
   ]
  },
  {
   "cell_type": "code",
   "execution_count": 300,
   "metadata": {},
   "outputs": [
    {
     "data": {
      "image/png": "[encoded data removed]",
      "text/plain": [
       "<Figure size 864x720 with 1 Axes>"
      ]
     },
     "metadata": {},
     "output_type": "display_data"
    }
   ],
   "source": [
    "x=result2['shop_id']\n",
    "y=result2['view_count']\n",
    "z=result2['city_name']\n",
    "a=result2['city_name'].unique()\n",
    "plt.figure(figsize=(12,10))\n",
    "#设置参数hue对城市控制分组颜色\n",
    "sns.scatterplot(x, y, size=y,hue=z,legend=False, alpha=0.5, sizes=(100, 800),label=a)\n",
    "plt.legend(bbox_to_anchor=(1, 1), loc='upper left', fontsize=17)\n",
    "plt.show()"
   ]
  },
  {
   "cell_type": "code",
   "execution_count": null,
   "metadata": {},
   "outputs": [],
   "source": []
  },
  {
   "cell_type": "code",
   "execution_count": null,
   "metadata": {},
   "outputs": [],
   "source": []
  },
  {
   "cell_type": "code",
   "execution_count": null,
   "metadata": {},
   "outputs": [],
   "source": []
  },
  {
   "cell_type": "code",
   "execution_count": null,
   "metadata": {},
   "outputs": [],
   "source": []
  },
  {
   "cell_type": "code",
   "execution_count": null,
   "metadata": {},
   "outputs": [],
   "source": []
  },
  {
   "cell_type": "code",
   "execution_count": null,
   "metadata": {},
   "outputs": [],
   "source": []
  },
  {
   "cell_type": "code",
   "execution_count": null,
   "metadata": {},
   "outputs": [],
   "source": []
  },
  {
   "cell_type": "code",
   "execution_count": null,
   "metadata": {},
   "outputs": [],
   "source": []
  },
  {
   "cell_type": "code",
   "execution_count": null,
   "metadata": {},
   "outputs": [],
   "source": []
  },
  {
   "cell_type": "code",
   "execution_count": null,
   "metadata": {},
   "outputs": [],
   "source": []
  },
  {
   "cell_type": "code",
   "execution_count": null,
   "metadata": {},
   "outputs": [],
   "source": []
  },
  {
   "cell_type": "code",
   "execution_count": null,
   "metadata": {},
   "outputs": [],
   "source": []
  },
  {
   "cell_type": "code",
   "execution_count": null,
   "metadata": {},
   "outputs": [],
   "source": []
  },
  {
   "cell_type": "code",
   "execution_count": null,
   "metadata": {},
   "outputs": [],
   "source": []
  },
  {
   "cell_type": "code",
   "execution_count": null,
   "metadata": {},
   "outputs": [],
   "source": []
  },
  {
   "cell_type": "code",
   "execution_count": null,
   "metadata": {},
   "outputs": [],
   "source": []
  },
  {
   "cell_type": "code",
   "execution_count": null,
   "metadata": {},
   "outputs": [],
   "source": []
  },
  {
   "cell_type": "code",
   "execution_count": null,
   "metadata": {},
   "outputs": [],
   "source": []
  },
  {
   "cell_type": "code",
   "execution_count": null,
   "metadata": {},
   "outputs": [],
   "source": []
  },
  {
   "cell_type": "code",
   "execution_count": null,
   "metadata": {},
   "outputs": [],
   "source": []
  },
  {
   "cell_type": "code",
   "execution_count": null,
   "metadata": {},
   "outputs": [],
   "source": []
  },
  {
   "cell_type": "code",
   "execution_count": null,
   "metadata": {},
   "outputs": [],
   "source": []
  },
  {
   "cell_type": "code",
   "execution_count": null,
   "metadata": {},
   "outputs": [],
   "source": []
  },
  {
   "cell_type": "code",
   "execution_count": null,
   "metadata": {},
   "outputs": [],
   "source": []
  },
  {
   "cell_type": "code",
   "execution_count": null,
   "metadata": {},
   "outputs": [],
   "source": []
  },
  {
   "cell_type": "code",
   "execution_count": null,
   "metadata": {},
   "outputs": [],
   "source": []
  }
 ],
 "metadata": {
  "kernelspec": {
   "display_name": "Python 3",
   "language": "python",
   "name": "python3"
  },
  "language_info": {
   "codemirror_mode": {
    "name": "ipython",
    "version": 3
   },
   "file_extension": ".py",
   "mimetype": "text/x-python",
   "name": "python",
   "nbconvert_exporter": "python",
   "pygments_lexer": "ipython3",
   "version": "3.8.3"
  }
 },
 "nbformat": 4,
 "nbformat_minor": 4
}
